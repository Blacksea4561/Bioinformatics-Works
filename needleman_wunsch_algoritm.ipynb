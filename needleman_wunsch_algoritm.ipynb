{
 "cells": [
  {
   "cell_type": "code",
   "execution_count": 1,
   "id": "26196124",
   "metadata": {},
   "outputs": [],
   "source": [
    "import numpy as np"
   ]
  },
  {
   "cell_type": "code",
   "execution_count": null,
   "id": "a3af3e4e",
   "metadata": {},
   "outputs": [],
   "source": []
  },
  {
   "cell_type": "code",
   "execution_count": 12,
   "id": "c34dbfd5",
   "metadata": {},
   "outputs": [],
   "source": [
    "seq1 = \"AAAATTCATTTT\"\n",
    "seq2 = \"GTCTCATG\"\n",
    "\n",
    "\n",
    "def needleman_wunsch (seq1,seq2,match_score,mismatch_score,d)\n",
    "num_rows = len(seq2) +1\n",
    "num_cols = len(seq1) +1\n"
   ]
  },
  {
   "cell_type": "code",
   "execution_count": 13,
   "id": "4e11909d",
   "metadata": {},
   "outputs": [
    {
     "data": {
      "text/plain": [
       "8"
      ]
     },
     "execution_count": 13,
     "metadata": {},
     "output_type": "execute_result"
    }
   ],
   "source": [
    "len(seq2)"
   ]
  },
  {
   "cell_type": "code",
   "execution_count": 38,
   "id": "88f9bda9",
   "metadata": {},
   "outputs": [],
   "source": [
    "F = np.zeros(shape=(num_rows,num_cols),dtype = \"int\") # alignment matrix\n",
    "\n",
    "T = np.full(shape =(num_rows,num_cols),dtype=\"str\", fill_value=\"\") # traceback matrix"
   ]
  },
  {
   "cell_type": "code",
   "execution_count": 32,
   "id": "86eb9f24",
   "metadata": {},
   "outputs": [],
   "source": [
    "match_score = 1\n",
    "mismatch_score = 0\n",
    "\n",
    "d = -2 # gap penalty\n"
   ]
  },
  {
   "cell_type": "code",
   "execution_count": 33,
   "id": "f2255219",
   "metadata": {},
   "outputs": [],
   "source": [
    "F[0][0]= 0\n",
    "\n",
    "for i in  range(1,num_rows):\n",
    "    \n",
    "    F[i][0] = F[i-1] [0]+ d  \n",
    "    "
   ]
  },
  {
   "cell_type": "code",
   "execution_count": 34,
   "id": "7ee536e5",
   "metadata": {},
   "outputs": [
    {
     "ename": "IndexError",
     "evalue": "index 9 is out of bounds for axis 0 with size 9",
     "output_type": "error",
     "traceback": [
      "\u001b[1;31m---------------------------------------------------------------------------\u001b[0m",
      "\u001b[1;31mIndexError\u001b[0m                                Traceback (most recent call last)",
      "\u001b[1;32m~\\AppData\\Local\\Temp\\ipykernel_6556\\1532295980.py\u001b[0m in \u001b[0;36m<module>\u001b[1;34m\u001b[0m\n\u001b[0;32m      1\u001b[0m \u001b[1;32mfor\u001b[0m \u001b[0mj\u001b[0m \u001b[1;32min\u001b[0m \u001b[0mrange\u001b[0m\u001b[1;33m(\u001b[0m\u001b[1;36m1\u001b[0m\u001b[1;33m,\u001b[0m\u001b[0mnum_cols\u001b[0m\u001b[1;33m)\u001b[0m\u001b[1;33m:\u001b[0m\u001b[1;33m\u001b[0m\u001b[1;33m\u001b[0m\u001b[0m\n\u001b[1;32m----> 2\u001b[1;33m     \u001b[0mF\u001b[0m\u001b[1;33m[\u001b[0m\u001b[0mi\u001b[0m\u001b[1;33m]\u001b[0m\u001b[1;33m[\u001b[0m\u001b[0mj\u001b[0m\u001b[1;33m]\u001b[0m \u001b[1;33m=\u001b[0m \u001b[0mF\u001b[0m\u001b[1;33m[\u001b[0m\u001b[1;36m0\u001b[0m\u001b[1;33m]\u001b[0m\u001b[1;33m[\u001b[0m\u001b[0mj\u001b[0m\u001b[1;33m-\u001b[0m\u001b[1;36m1\u001b[0m\u001b[1;33m]\u001b[0m \u001b[1;33m+\u001b[0m\u001b[0md\u001b[0m\u001b[1;33m\u001b[0m\u001b[1;33m\u001b[0m\u001b[0m\n\u001b[0m",
      "\u001b[1;31mIndexError\u001b[0m: index 9 is out of bounds for axis 0 with size 9"
     ]
    }
   ],
   "source": [
    "for j in range(1,num_cols):\n",
    "    F[i][j] = F[0][j-1] +d"
   ]
  },
  {
   "cell_type": "code",
   "execution_count": 35,
   "id": "3b025f05",
   "metadata": {},
   "outputs": [],
   "source": [
    "T[0][0] = '.'\n",
    "\n",
    "\n",
    "for i in  range(1,num_rows):\n",
    "    T[i][0] = 'u'\n",
    "    \n",
    "for j in range(1,num_cols):\n",
    "     T[0][j] = 'l'\n",
    "    \n",
    "    "
   ]
  },
  {
   "cell_type": "code",
   "execution_count": 41,
   "id": "835fe0f5",
   "metadata": {},
   "outputs": [],
   "source": [
    "for i in range(1,num_rows):\n",
    "    \n",
    "    for j in range(1,num_cols):\n",
    "         \n",
    "            if seq1[j-1] == seq2[i-1]:\n",
    "                \n",
    "                match_mismatch_score = F[i-1][j-1] + match_score\n",
    "                \n",
    "            elif seq1[j-1] !=seq2[i-1]:\n",
    "                \n",
    "                match_mismatch_score = F[i-1][j-1] + mismatch_score\n",
    "                \n",
    "            right_gap_score = F[i][j-1] + d\n",
    "            down_gap_score = F[i-1][j] + d\n",
    "            \n",
    "            \n",
    "            F[i,j] = np.max([match_mismatch_score,right_gap_score,down_gap_score])\n",
    "            \n",
    "            which_max = np.argmax([match_mismatch_score,right_gap_score,down_gap_score])\n",
    "            \n",
    "            if which_max ==0:\n",
    "                T[i,j] = 'd'\n",
    "            elif which_max == 1:\n",
    "                T[i,j] = 'l'\n",
    "            elif which_max == 2:\n",
    "                T[i,j] = 'u'\n",
    "                       \n",
    "            \n",
    "        "
   ]
  },
  {
   "cell_type": "code",
   "execution_count": 42,
   "id": "5cb40177",
   "metadata": {},
   "outputs": [
    {
     "data": {
      "text/plain": [
       "array([[0, 0, 0, 0, 0, 0, 0, 0, 0, 0, 0, 0, 0],\n",
       "       [0, 0, 0, 0, 0, 0, 0, 0, 0, 0, 0, 0, 0],\n",
       "       [0, 0, 0, 0, 0, 1, 1, 0, 0, 1, 1, 1, 1],\n",
       "       [0, 0, 0, 0, 0, 0, 1, 2, 0, 0, 1, 1, 1],\n",
       "       [0, 0, 0, 0, 0, 1, 1, 1, 2, 1, 1, 2, 2],\n",
       "       [0, 0, 0, 0, 0, 0, 1, 2, 1, 2, 1, 1, 2],\n",
       "       [0, 1, 1, 1, 1, 0, 0, 1, 3, 1, 2, 1, 1],\n",
       "       [0, 0, 1, 1, 1, 2, 1, 0, 1, 4, 2, 3, 2],\n",
       "       [0, 0, 0, 1, 1, 1, 2, 1, 0, 2, 4, 2, 3]])"
      ]
     },
     "execution_count": 42,
     "metadata": {},
     "output_type": "execute_result"
    }
   ],
   "source": [
    "F"
   ]
  },
  {
   "cell_type": "code",
   "execution_count": 44,
   "id": "ebd90ef9",
   "metadata": {},
   "outputs": [
    {
     "data": {
      "text/plain": [
       "array([['', '', '', '', '', '', '', '', '', '', '', '', ''],\n",
       "       ['', 'd', 'd', 'd', 'd', 'd', 'd', 'd', 'd', 'd', 'd', 'd', 'd'],\n",
       "       ['', 'd', 'd', 'd', 'd', 'd', 'd', 'd', 'd', 'd', 'd', 'd', 'd'],\n",
       "       ['', 'd', 'd', 'd', 'd', 'd', 'd', 'd', 'd', 'd', 'd', 'd', 'd'],\n",
       "       ['', 'd', 'd', 'd', 'd', 'd', 'd', 'd', 'd', 'd', 'd', 'd', 'd'],\n",
       "       ['', 'd', 'd', 'd', 'd', 'd', 'd', 'd', 'd', 'd', 'd', 'd', 'd'],\n",
       "       ['', 'd', 'd', 'd', 'd', 'd', 'd', 'd', 'd', 'd', 'd', 'd', 'd'],\n",
       "       ['', 'd', 'd', 'd', 'd', 'd', 'd', 'd', 'd', 'd', 'd', 'd', 'd'],\n",
       "       ['', 'd', 'd', 'd', 'd', 'd', 'd', 'd', 'd', 'u', 'd', 'd', 'd']],\n",
       "      dtype='<U1')"
      ]
     },
     "execution_count": 44,
     "metadata": {},
     "output_type": "execute_result"
    }
   ],
   "source": [
    "T"
   ]
  },
  {
   "cell_type": "code",
   "execution_count": null,
   "id": "9263fe36",
   "metadata": {},
   "outputs": [],
   "source": [
    "direction = ' '\n",
    "\n",
    "row_index = num_rows - 1\n",
    "col_index = num_cols - 1\n",
    "\n",
    "\n",
    "aln_seq1 = ''\n",
    "aln_seq2 = ''\n",
    "\n",
    "while direction != '.':\n",
    "    direction = T[row_index ]\n",
    "    \n",
    "    if direction == 'd':\n",
    "        row_index = row_index -1\n",
    "        col_index = col_index -1 \n",
    "        aln_seq1 = aln_seq1 + seq1[col_index]\n",
    "        aln_seq2 = aln_seq2 + seq2[col_index]\n",
    "        \n",
    "    elif direction == 'l':\n",
    "        col_index = col_index -1\n",
    "        aln_seq 2= aln_seq2 + '-'\n",
    "        aln_seq1= aln_seq1 + seq1[col_index]\n",
    "    \n",
    "    elif direction == 'u':\n",
    "        row_index = row_index -1\n",
    "        aln_seq 1= aln_seq1 + '-'\n",
    "        aln_seq2= aln_seq2 + seq2[row_index]\n",
    "        \n",
    "return (aln_seq1[::-],aln_seq2[::-])\n",
    "        \n",
    "   \n",
    "    \n",
    "    \n",
    "    \n",
    "    \n",
    "    "
   ]
  },
  {
   "cell_type": "code",
   "execution_count": null,
   "id": "eb937e46",
   "metadata": {},
   "outputs": [],
   "source": []
  },
  {
   "cell_type": "code",
   "execution_count": null,
   "id": "af5465aa",
   "metadata": {},
   "outputs": [],
   "source": []
  },
  {
   "cell_type": "code",
   "execution_count": null,
   "id": "d30646ff",
   "metadata": {},
   "outputs": [],
   "source": []
  },
  {
   "cell_type": "code",
   "execution_count": null,
   "id": "6d98929b",
   "metadata": {},
   "outputs": [],
   "source": []
  },
  {
   "cell_type": "code",
   "execution_count": null,
   "id": "862fd1f9",
   "metadata": {},
   "outputs": [],
   "source": []
  },
  {
   "cell_type": "code",
   "execution_count": null,
   "id": "4cb56114",
   "metadata": {},
   "outputs": [],
   "source": []
  },
  {
   "cell_type": "code",
   "execution_count": null,
   "id": "745cc983",
   "metadata": {},
   "outputs": [],
   "source": []
  },
  {
   "cell_type": "code",
   "execution_count": null,
   "id": "64b7a7a7",
   "metadata": {},
   "outputs": [],
   "source": []
  }
 ],
 "metadata": {
  "kernelspec": {
   "display_name": "Python 3 (ipykernel)",
   "language": "python",
   "name": "python3"
  },
  "language_info": {
   "codemirror_mode": {
    "name": "ipython",
    "version": 3
   },
   "file_extension": ".py",
   "mimetype": "text/x-python",
   "name": "python",
   "nbconvert_exporter": "python",
   "pygments_lexer": "ipython3",
   "version": "3.9.13"
  }
 },
 "nbformat": 4,
 "nbformat_minor": 5
}
