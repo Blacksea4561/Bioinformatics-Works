{
 "cells": [
  {
   "cell_type": "code",
   "execution_count": 1,
   "id": "6e12028e",
   "metadata": {},
   "outputs": [],
   "source": [
    "from Bio import Entrez"
   ]
  },
  {
   "cell_type": "code",
   "execution_count": 2,
   "id": "847e6543",
   "metadata": {},
   "outputs": [],
   "source": [
    "from Bio import Entrez, SeqIO"
   ]
  },
  {
   "cell_type": "code",
   "execution_count": 3,
   "id": "aef41778",
   "metadata": {},
   "outputs": [],
   "source": [
    "Entrez.email = \"bulentkaradeniz61@gmail.com\""
   ]
  },
  {
   "cell_type": "markdown",
   "id": "ea745f62",
   "metadata": {},
   "source": [
    "# Homework_1_1_a_All nucleotide sequences for the “Angiotension I converting enzyme” gene in humans.How many results are returned?"
   ]
  },
  {
   "cell_type": "code",
   "execution_count": null,
   "id": "e7ef1b8b",
   "metadata": {},
   "outputs": [],
   "source": [
    "handle = Entrez.esearch(db = \"nucleotide\", term = 'ACE [Gene Name] AND \" Homo sapiens\" [Organism]')\n",
    "rec_list = Entrez.read(handle)\n",
    "handle.close()\n",
    "rec_list['Count']\n"
   ]
  },
  {
   "cell_type": "code",
   "execution_count": null,
   "id": "d8f80b9c",
   "metadata": {},
   "outputs": [],
   "source": [
    " # 20 human genes for angiotensin I converting enzyme"
   ]
  },
  {
   "cell_type": "code",
   "execution_count": null,
   "id": "3cb91d78",
   "metadata": {},
   "outputs": [],
   "source": [
    "len(rec_list['IdList'])"
   ]
  },
  {
   "cell_type": "code",
   "execution_count": null,
   "id": "3ad50c53",
   "metadata": {},
   "outputs": [],
   "source": [
    "rec_list['IdList']"
   ]
  },
  {
   "cell_type": "markdown",
   "id": "b45e310b",
   "metadata": {},
   "source": [
    "# Homework_1_1_b_ All nucleotide sequences for the “Angiotension I converting enzyme” gene in domestic cats. How many results are returned?"
   ]
  },
  {
   "cell_type": "code",
   "execution_count": null,
   "id": "0a08d157",
   "metadata": {},
   "outputs": [],
   "source": [
    "handle = Entrez.esearch(db = \"nucleotide\", term = 'ACE [Gene Name] AND \"Felis catus\" [Organism]')\n",
    "rec_list = Entrez.read(handle)\n",
    "handle.close()\n",
    "rec_list['Count']"
   ]
  },
  {
   "cell_type": "code",
   "execution_count": null,
   "id": "9014fe2c",
   "metadata": {},
   "outputs": [],
   "source": [
    "len(rec_list['IdList']) #  genes number"
   ]
  },
  {
   "cell_type": "code",
   "execution_count": null,
   "id": "1f1bff8e",
   "metadata": {},
   "outputs": [],
   "source": [
    "rec_list['IdList'] # genes  ıd list"
   ]
  },
  {
   "cell_type": "markdown",
   "id": "eb27519f",
   "metadata": {},
   "source": [
    "# Homework_1_1_c_All nucleotide sequences of the HPN gene in Homo sapiens . How many results are returned? Provide the accession numbers of the first three records."
   ]
  },
  {
   "cell_type": "code",
   "execution_count": null,
   "id": "b9876f36",
   "metadata": {},
   "outputs": [],
   "source": [
    "handle = Entrez.esearch(db = \"nucleotide\", term = 'HPN [Gene Name] AND \"Homo sapiens\" [Organism]')\n",
    "rec_list = Entrez.read(handle)\n",
    "handle.close()\n",
    "rec_list['Count']"
   ]
  },
  {
   "cell_type": "code",
   "execution_count": null,
   "id": "16345c32",
   "metadata": {},
   "outputs": [],
   "source": [
    "rec_list['IdList'][0:3]"
   ]
  },
  {
   "cell_type": "markdown",
   "id": "30a1675f",
   "metadata": {},
   "source": [
    "# Homework_1_1_d_\"The entry with the accession number “AF274303”\"\n",
    "# Angiotension I converting enzyme "
   ]
  },
  {
   "cell_type": "code",
   "execution_count": null,
   "id": "07ffed1b",
   "metadata": {},
   "outputs": [],
   "source": [
    "handle = Entrez.efetch(db = 'nucleotide', id = 'AF274303', rettype = 'gb', retmode = 'text')\n",
    "print(handle.read())"
   ]
  },
  {
   "cell_type": "code",
   "execution_count": null,
   "id": "549862e0",
   "metadata": {},
   "outputs": [],
   "source": [
    "#Short Brief\n",
    "#source of  gene:   Homo sapiens (human)\n",
    "#Locus name ID AF274303 and this is  accession number in entrez data base also\n",
    "#and it  had been  modified  , latest  version AF274303.1\n",
    "#short name ACT1 in  entrez data base\n",
    "#this gene has  2190 bp\n",
    "#coding squence  has 1725bp\n",
    "#protein ID AAG15367.1  had been modified\n",
    "#translated protein  has 794 amino acid\n",
    "# print Date 21-sep-2000\n",
    "# structure  is linear mRNA\n",
    "# coding sequence is complete\n",
    "#  PUBMED    number : 10962024\n"
   ]
  }
 ],
 "metadata": {
  "kernelspec": {
   "display_name": "Python 3 (ipykernel)",
   "language": "python",
   "name": "python3"
  },
  "language_info": {
   "codemirror_mode": {
    "name": "ipython",
    "version": 3
   },
   "file_extension": ".py",
   "mimetype": "text/x-python",
   "name": "python",
   "nbconvert_exporter": "python",
   "pygments_lexer": "ipython3",
   "version": "3.9.13"
  }
 },
 "nbformat": 4,
 "nbformat_minor": 5
}
