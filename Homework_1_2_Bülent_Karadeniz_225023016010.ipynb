{
 "cells": [
  {
   "cell_type": "markdown",
   "id": "aeb18035",
   "metadata": {},
   "source": [
    "# I chose Nsp12 protein (6YYT - SARS-CoV-2 polymerase)\n",
    "### teacher, I struggled a lot with homework, I found sample codes on the right and left, but it did not go as I wanted."
   ]
  },
  {
   "cell_type": "code",
   "execution_count": 6,
   "id": "92519b2e",
   "metadata": {},
   "outputs": [],
   "source": [
    "from Bio import Entrez, SeqIO\n",
    "Entrez.email = \"\" \n",
    "handle = Entrez.efetch(db=\"nucleotide\", id=\"MN908947\", rettype=\"gb\", retmode=\"text\")\n",
    "recs = list(SeqIO.parse(handle, 'gb'))\n",
    "handle.close()"
   ]
  },
  {
   "cell_type": "code",
   "execution_count": 7,
   "id": "7d7e1eb9",
   "metadata": {},
   "outputs": [
    {
     "data": {
      "text/plain": [
       "[SeqRecord(seq=Seq('ATTAAAGGTTTATACCTTCCCAGGTAACAAACCAACCAACTTTCGATCTCTTGT...AAA'), id='MN908947.3', name='MN908947', description='Severe acute respiratory syndrome coronavirus 2 isolate Wuhan-Hu-1, complete genome', dbxrefs=[])]"
      ]
     },
     "execution_count": 7,
     "metadata": {},
     "output_type": "execute_result"
    }
   ],
   "source": [
    "recs"
   ]
  },
  {
   "cell_type": "code",
   "execution_count": 8,
   "id": "2c6c40d8",
   "metadata": {},
   "outputs": [],
   "source": [
    "covid_dna = recs[0].seq"
   ]
  },
  {
   "cell_type": "code",
   "execution_count": 9,
   "id": "6037bfe5",
   "metadata": {},
   "outputs": [
    {
     "data": {
      "text/plain": [
       "Seq('ATTAAAGGTTTATACCTTCCCAGGTAACAAACCAACCAACTTTCGATCTCTTGT...AAA')"
      ]
     },
     "execution_count": 9,
     "metadata": {},
     "output_type": "execute_result"
    }
   ],
   "source": [
    "covid_dna"
   ]
  },
  {
   "cell_type": "code",
   "execution_count": 10,
   "id": "cc6f7146",
   "metadata": {},
   "outputs": [
    {
     "name": "stdout",
     "output_type": "stream",
     "text": [
      "The genome of Covid-19 consists of 29903 nucleotides.\n"
     ]
    }
   ],
   "source": [
    "print(f'The genome of Covid-19 consists of {len(covid_dna)} nucleotides.')"
   ]
  },
  {
   "cell_type": "code",
   "execution_count": 11,
   "id": "631e7ca5",
   "metadata": {},
   "outputs": [
    {
     "data": {
      "text/plain": [
       "Seq('AUUAAAGGUUUAUACCUUCCCAGGUAACAAACCAACCAACUUUCGAUCUCUUGU...AAA')"
      ]
     },
     "execution_count": 11,
     "metadata": {},
     "output_type": "execute_result"
    }
   ],
   "source": [
    "covid_mrna = covid_dna.transcribe()\n",
    "covid_mrna"
   ]
  },
  {
   "cell_type": "code",
   "execution_count": 12,
   "id": "b364e122",
   "metadata": {
    "scrolled": true
   },
   "outputs": [
    {
     "name": "stderr",
     "output_type": "stream",
     "text": [
      "C:\\Users\\bulen\\anaconda3\\lib\\site-packages\\Bio\\Seq.py:2979: BiopythonWarning: Partial codon, len(sequence) not a multiple of three. Explicitly trim the sequence or add trailing N before translation. This may become an error in future.\n",
      "  warnings.warn(\n"
     ]
    },
    {
     "data": {
      "text/plain": [
       "Seq('IKGLYLPR*QTNQLSISCRSVL*TNFKICVAVTRLHA*CTHAV*LITNYCR*QD...KKK')"
      ]
     },
     "execution_count": 12,
     "metadata": {},
     "output_type": "execute_result"
    }
   ],
   "source": [
    "covid_aa = covid_mrna.translate()\n",
    "covid_aa"
   ]
  },
  {
   "cell_type": "code",
   "execution_count": null,
   "id": "6144d699",
   "metadata": {},
   "outputs": [],
   "source": []
  },
  {
   "cell_type": "code",
   "execution_count": 13,
   "id": "152bca36",
   "metadata": {},
   "outputs": [
    {
     "data": {
      "text/plain": [
       "[('L', 886),\n",
       " ('S', 810),\n",
       " ('*', 774),\n",
       " ('T', 679),\n",
       " ('C', 635),\n",
       " ('F', 593),\n",
       " ('R', 558),\n",
       " ('V', 548),\n",
       " ('Y', 505),\n",
       " ('N', 472)]"
      ]
     },
     "execution_count": 13,
     "metadata": {},
     "output_type": "execute_result"
    }
   ],
   "source": [
    "#most common amino acids\n",
    "from collections import Counter\n",
    "common_amino = Counter(covid_aa)\n",
    "common_amino.most_common(10)"
   ]
  },
  {
   "cell_type": "code",
   "execution_count": null,
   "id": "fb02a0db",
   "metadata": {},
   "outputs": [],
   "source": []
  },
  {
   "cell_type": "code",
   "execution_count": 15,
   "id": "ffa4b4ec",
   "metadata": {},
   "outputs": [
    {
     "name": "stdout",
     "output_type": "stream",
     "text": [
      "Covid-19's genome has 9193 amino acids\n"
     ]
    }
   ],
   "source": [
    "print(f\"Covid-19's genome has {sum(common_amino.values())} amino acids\")"
   ]
  },
  {
   "cell_type": "code",
   "execution_count": 16,
   "id": "40ddc8dd",
   "metadata": {},
   "outputs": [],
   "source": [
    "proteins = covid_aa.split('*')"
   ]
  },
  {
   "cell_type": "code",
   "execution_count": 83,
   "id": "bca3c066",
   "metadata": {},
   "outputs": [
    {
     "data": {
      "text/plain": [
       "[Seq('IKGLYLPR'),\n",
       " Seq('QTNQLSISCRSVL'),\n",
       " Seq('TNFKICVAVTRLHA'),\n",
       " Seq('CTHAV'),\n",
       " Seq('LITNYCR'),\n",
       " Seq('QDTSNSSIFCRLLTVSSVLQPIISTSRFRPGVTER'),\n",
       " Seq('DGEPCPWFQRENTRPTQFACFTGSRRARTWLWRLRGGGLIRGTSTS'),\n",
       " Seq('RWHLWLSRS'),\n",
       " Seq('KRRFAST'),\n",
       " Seq('TALCVHQTFGCSNCTSWSCYG'),\n",
       " Seq('AGSRTRRHSVRS'),\n",
       " Seq('W'),\n",
       " Seq('DTWCPCPSCGRNTSGLPQGSSS'),\n",
       " Seq('ER'),\n",
       " Seq(''),\n",
       " Seq('RSWWP'),\n",
       " Seq('LRRRSKVI'),\n",
       " Seq('LRRRAWH'),\n",
       " Seq('SL'),\n",
       " Seq('RFSRKLEH'),\n",
       " Seq('T'),\n",
       " Seq('QWCYP'),\n",
       " Seq('THA'),\n",
       " Seq('A'),\n",
       " Seq('RRGIHSLCR'),\n",
       " Seq('QLLWP'),\n",
       " Seq('WLPS'),\n",
       " Seq('VH'),\n",
       " Seq('RPSSTCW'),\n",
       " Seq('SFMHFVRTTGLY'),\n",
       " Seq('H'),\n",
       " Seq('EGCILLP'),\n",
       " Seq('T'),\n",
       " Seq('A'),\n",
       " Seq('NCLVHGTF'),\n",
       " Seq('KEL'),\n",
       " Seq('IADTF'),\n",
       " Seq('N'),\n",
       " Seq('IGKEI'),\n",
       " Seq('HLQWGMSKFCISLKFHNQDYSTKG'),\n",
       " Seq('KEKA'),\n",
       " Seq('WLYG'),\n",
       " Seq('NSICLSSCVTK'),\n",
       " Seq('MQPNVPFNSHEV'),\n",
       " Seq('SLW'),\n",
       " Seq('NFMADGRFC'),\n",
       " Seq('SHLRILWH'),\n",
       " Seq('EFD'),\n",
       " Seq('RRCHYLWLLTPKCCC'),\n",
       " Seq('NLLSSMSQFRSRT'),\n",
       " Seq('A'),\n",
       " Seq('SCRIP'),\n",
       " Seq(''),\n",
       " Seq('IWLENHSS'),\n",
       " Seq('GWSHYCLWRLCVLLCWLP'),\n",
       " Seq('QVCLLGSTC'),\n",
       " Seq('R'),\n",
       " Seq('HRL'),\n",
       " Seq('PYRCCWRRFRRS'),\n",
       " Seq(''),\n",
       " Seq('QPS'),\n",
       " Seq('NTPKRESQHQYCW'),\n",
       " Seq('L'),\n",
       " Seq('T'),\n",
       " Seq(''),\n",
       " Seq('RDRHYFGIFFCFHKCFCGNCERFGL'),\n",
       " Seq('SIQTNC'),\n",
       " Seq('ILW'),\n",
       " Seq('F'),\n",
       " Seq('SYKRKS'),\n",
       " Seq('KRCLEYW'),\n",
       " Seq('TEINTESSLCICIRGCSCCTINFLPHS'),\n",
       " Seq('NCSKFCACFTEGRYNNTRWNFTVFTETH'),\n",
       " Seq('CYDVHI'),\n",
       " Seq('FGY'),\n",
       " Seq('QSSCNGLHYRWCCSVDFAVAN'),\n",
       " Seq('HLWHCL'),\n",
       " Seq('KTQTRP'),\n",
       " Seq('LA'),\n",
       " Seq('REV'),\n",
       " Seq('GRCRVS'),\n",
       " Seq('RRLGNC'),\n",
       " Seq('IYLNLCL'),\n",
       " Seq('NCRWTNCHLCKGN'),\n",
       " Seq('GECSDIL'),\n",
       " Seq('ACK'),\n",
       " Seq('IFGFVC'),\n",
       " Seq('LYHYWWS'),\n",
       " Seq('T'),\n",
       " Seq('SLEFR'),\n",
       " Seq('NICHALKGIVQKVC'),\n",
       " Seq('IQRRNWPTHASKSPKRNYLLRGRNTSHRSVNRGSCLENW'),\n",
       " Seq('FTTIRTTY'),\n",
       " Seq(''),\n",
       " Seq('SC'),\n",
       " Seq('SSIGWYTSLY'),\n",
       " Seq('RAYVARNQRHRKVLCPCT'),\n",
       " Seq('YDGNKQYLHTQRRCTNKGYFW'),\n",
       " Seq(''),\n",
       " Seq('HCDRSARLQECEYHF'),\n",
       " Seq('T'),\n",
       " Seq(''),\n",
       " Seq('KD'),\n",
       " Seq(''),\n",
       " Seq('ST'),\n",
       " Seq(''),\n",
       " Seq('EVLCLYS'),\n",
       " Seq('TRYRSK'),\n",
       " Seq('VRLCCGRCCHKNFATSI'),\n",
       " Seq('ITYTTGH'),\n",
       " Seq('FR'),\n",
       " Seq('VEYGYILLI'),\n",
       " Seq(''),\n",
       " Seq('VW'),\n",
       " Seq('V'),\n",
       " Seq('IGFTYVLFFLPSR'),\n",
       " Seq('G'),\n",
       " Seq('RRR'),\n",
       " Seq('L'),\n",
       " Seq('RRRV'),\n",
       " Seq('AINSI'),\n",
       " Seq('VWY'),\n",
       " Seq('R'),\n",
       " Seq('LPR'),\n",
       " Seq('TFGIWCHFCCSST'),\n",
       " Seq('RRARRRLVR'),\n",
       " Seq(''),\n",
       " Seq(''),\n",
       " Seq('STNCWSTRRQ'),\n",
       " Seq('GQSDNYYSNNC'),\n",
       " Seq('GSTSIRDGTYTSCSDY'),\n",
       " Seq('SE'),\n",
       " Seq('F'),\n",
       " Seq('WLFKTY'),\n",
       " Seq('QCIH'),\n",
       " Seq('KCRHCGRS'),\n",
       " Seq('KGKTNSGC'),\n",
       " Seq('CSQCLP'),\n",
       " Seq('TWRRCCRSLK'),\n",
       " Seq('GY'),\n",
       " Seq('QCHAS'),\n",
       " Seq('I'),\n",
       " Seq(''),\n",
       " Seq('LHSY'),\n",
       " Seq('WTT'),\n",
       " Seq('SGW'),\n",
       " Seq('LCFKRTQSC'),\n",
       " Seq('TLSSCCRPKC'),\n",
       " Seq('QR'),\n",
       " Seq('RHSTS'),\n",
       " Seq('ECL'),\n",
       " Seq('KF'),\n",
       " Seq('SARSSTCTIIISWYFWC'),\n",
       " Seq('PYTFFKSLCRYCSHKCLLSCL'),\n",
       " Seq(''),\n",
       " Seq('KSL'),\n",
       " Seq('QTCFKLFGNEE'),\n",
       " Seq('KAS'),\n",
       " Seq('TKDR'),\n",
       " Seq('DS'),\n",
       " Seq('RGS'),\n",
       " Seq('AIYN'),\n",
       " Seq('K'),\n",
       " Seq('TFS'),\n",
       " Seq('TEKTR'),\n",
       " Seq(''),\n",
       " Seq('ENQSLC'),\n",
       " Seq('RSYNNSGRN'),\n",
       " Seq('VPHRKLVTLY'),\n",
       " Seq('H'),\n",
       " Seq('WQSSSRFCHSC'),\n",
       " Seq(''),\n",
       " Seq('H'),\n",
       " Seq('HHFLKERCSIYSG'),\n",
       " Seq('CCSRGCFNCCGYTY'),\n",
       " Seq('KGWWHY'),\n",
       " Seq('NASESFEKSANRQLYNHLPGSGFKWLHCRGGKDSA'),\n",
       " Seq('KV'),\n",
       " Seq('KCLLHSTIYYL'),\n",
       " Seq(''),\n",
       " Seq('EARNSWNCFLEFARNACTCRRNTQINACLCGN'),\n",
       " Seq('SHSFNYTA'),\n",
       " Seq('I'),\n",
       " Seq('GY'),\n",
       " Seq('NTRGCG'),\n",
       " Seq('LWC'),\n",
       " Seq('ILLLHQ'),\n",
       " Seq('NNCSVTYQHT'),\n",
       " Seq('RSK'),\n",
       " Seq('NSCYNATWLCNTWLKFGRSCSVYEISQSASYSFCFFT'),\n",
       " Seq('CCYSV'),\n",
       " Seq('WLSYFFF'),\n",
       " Seq('NT'),\n",
       " Seq('RTFY'),\n",
       " Seq('NHLTCWFL'),\n",
       " Seq('RLVLFWTIYTTRYRIS'),\n",
       " Seq('ER'),\n",
       " Seq(''),\n",
       " Seq('KCILH'),\n",
       " Seq(''),\n",
       " Seq('SYHIPPRW'),\n",
       " Seq('SYHL'),\n",
       " Seq('QS'),\n",
       " Seq('DTSFFERSEDY'),\n",
       " Seq('GVYNSRQH'),\n",
       " Seq('PPHASCGHVNDIWTTVWSNLFGWS'),\n",
       " Seq('CY'),\n",
       " Seq('NKTS'),\n",
       " Seq('FT'),\n",
       " Seq('R'),\n",
       " Seq('NILCFT'),\n",
       " Seq(''),\n",
       " Seq(''),\n",
       " Seq('HSTC'),\n",
       " Seq('GF'),\n",
       " Seq('VLPHN'),\n",
       " Seq('S'),\n",
       " Seq('FSG'),\n",
       " Seq('VHVSIKSH'),\n",
       " Seq('KVEIPTS'),\n",
       " Seq('WFNFY'),\n",
       " Seq('MGR'),\n",
       " Seq('QLLSCHCIVNTPTNRVEV'),\n",
       " Seq('STCSTRCLLQSKGW'),\n",
       " Seq('SC'),\n",
       " Seq('LLCTYLSLL'),\n",
       " Seq(''),\n",
       " Seq('DSR'),\n",
       " Seq('VR'),\n",
       " Seq('C'),\n",
       " Seq('RNNELLVSTCQFRFLQKSLERGV'),\n",
       " Seq('NLWTTADNP'),\n",
       " Seq('GCRSCYVHGHTFL'),\n",
       " Seq('TI'),\n",
       " Seq('ERCSDTLYVW'),\n",
       " Seq('TSYKISSTTGVTFCYDVSTTCSV'),\n",
       " Seq('T'),\n",
       " Seq('AWYIYLC'),\n",
       " Seq(''),\n",
       " Seq('VHW'),\n",
       " Seq('LPVWSL'),\n",
       " Seq('TYNF'),\n",
       " Seq('RNFVLHRRCFTYKVLRIQRSYYGCFLQRKQLHNNHKTSYL'),\n",
       " Seq('IGWCCLYRN'),\n",
       " Seq('P'),\n",
       " Seq('VGQLL'),\n",
       " Seq('ERQFLFHRATN'),\n",
       " Seq('SCTKPTISKRKLR'),\n",
       " Seq('F'),\n",
       " Seq('VCM'),\n",
       " Seq(''),\n",
       " Seq('YQIC'),\n",
       " Seq(''),\n",
       " Seq('FKPVNWL'),\n",
       " Seq('ETCFKRA'),\n",
       " Seq('SYIFP'),\n",
       " Seq('LKW'),\n",
       " Seq('CGGY'),\n",
       " Seq('L'),\n",
       " Seq('TLHTLF'),\n",
       " Seq('ERS'),\n",
       " Seq('IVT'),\n",
       " Seq('TYCLAC'),\n",
       " Seq('QCN'),\n",
       " Seq(''),\n",
       " Seq('SHV'),\n",
       " Seq('TKYLVYTLSLEHKTS'),\n",
       " Seq('NIKFV'),\n",
       " Seq('CTEVRGRAGNG'),\n",
       " Seq('SCLRRSKTSL'),\n",
       " Seq('RSSGKSYHTERRS'),\n",
       " Seq('V'),\n",
       " Seq('CENYRSCRRHYT'),\n",
       " Seq('TSK'),\n",
       " Seq(''),\n",
       " Seq('FKNYRRGWPHRSNGCLCRQF'),\n",
       " Seq('SYY'),\n",
       " Seq('ET'),\n",
       " Seq(''),\n",
       " Seq('II'),\n",
       " Seq('SIRFENPCYSWFSCC'),\n",
       " Seq(''),\n",
       " Seq('CPLGYYS'),\n",
       " Seq('LC'),\n",
       " Seq('AFS'),\n",
       " Seq('QSC'),\n",
       " Seq('YNY'),\n",
       " Seq('HSYTVFKPCLY'),\n",
       " Seq('LYALFLYFIATIVYFY'),\n",
       " Seq('KYKF'),\n",
       " Seq('N'),\n",
       " Seq('SIYADYYSKEYC'),\n",
       " Seq('ECR'),\n",
       " Seq('ILSRGFI'),\n",
       " Seq('LFEVT'),\n",
       " Seq('FF'),\n",
       " Seq('TDKYYNLVFTIKCLPRFFNLLNRCFRCFNV'),\n",
       " Seq('FRHAFLLYWLQRRLFELY'),\n",
       " Seq('CHYCNLLYWFYTL'),\n",
       " Seq('CLS'),\n",
       " Seq('WFRFFRHLSFFRNYTNYHFIF'),\n",
       " Seq('MGFNCFWLSCRVVFGIYSFH'),\n",
       " Seq('VFLCTWIGCNHAIVFQLFCSTFY'),\n",
       " Seq(''),\n",
       " Seq('FLAYVVNN'),\n",
       " Seq('SCTNGPDFSYG'),\n",
       " Seq('NVHLLCIILLCMEKLCACCRRL'),\n",
       " Seq('FINLYDVLQT'),\n",
       " Seq(''),\n",
       " Seq('SNKSRMYNYC'),\n",
       " Seq('WC'),\n",
       " Seq('KVLLCLC'),\n",
       " Seq('WR'),\n",
       " Seq('RLLQTTQLELC'),\n",
       " Seq('L'),\n",
       " Seq('YILCW'),\n",
       " Seq('YIY'),\n",
       " Seq(''),\n",
       " Seq(''),\n",
       " Seq('SCERLVTTV'),\n",
       " Seq('KTNKSY'),\n",
       " Seq('PVFLHR'),\n",
       " Seq(''),\n",
       " Seq('CYSEEWFHPSLL'),\n",
       " Seq(''),\n",
       " Seq('SWSKDL'),\n",
       " Seq('KTFSLSFC'),\n",
       " Seq('LRQPES'),\n",
       " Seq(''),\n",
       " Seq('H'),\n",
       " Seq('RFIAY'),\n",
       " Seq('CYSF'),\n",
       " Seq('W'),\n",
       " Seq('IKM'),\n",
       " Seq('RIICKISVCLLQSAYVSTYTVTRSGISV'),\n",
       " Seq('CW'),\n",
       " Seq(''),\n",
       " Seq('CGSCS'),\n",
       " Seq('NV'),\n",
       " Seq('CLR'),\n",
       " Seq('YVFINF'),\n",
       " Seq('RTNGKTQNTSCNCRS'),\n",
       " Seq('TCKECVLRQCLIYFYFSSSARVC'),\n",
       " Seq('FRCRN'),\n",
       " Seq('RCC'),\n",
       " Seq('MS'),\n",
       " Seq('IVTSI'),\n",
       " Seq('HRSYWR'),\n",
       " Seq('L'),\n",
       " Seq(''),\n",
       " Seq('LYAHL'),\n",
       " Seq('QS'),\n",
       " Seq('KHDTP'),\n",
       " Seq('PWCLY'),\n",
       " Seq('L'),\n",
       " Seq('CASY'),\n",
       " Seq('CAGSKKSQHCFDMER'),\n",
       " Seq('RFHVIV'),\n",
       " Seq('TTTKTNT'),\n",
       " Seq('CC'),\n",
       " Seq('KE'),\n",
       " Seq('LTF'),\n",
       " Seq('VDMCNY'),\n",
       " Seq('TSC'),\n",
       " Seq('CCNNKDST'),\n",
       " Seq('GW'),\n",
       " Seq('NC'),\n",
       " Seq(''),\n",
       " Seq('LVEAVN'),\n",
       " Seq('SYTCVPFCCCYFLFNNTCSCHV'),\n",
       " Seq('TY'),\n",
       " Seq('LFK'),\n",
       " Seq('NHRIQGY'),\n",
       " Seq('WWCHS'),\n",
       " Seq('HSIYRYLFC'),\n",
       " Seq('QTC'),\n",
       " Seq('F'),\n",
       " Seq('HMV'),\n",
       " Seq('PAWW'),\n",
       " Seq('LY'),\n",
       " Seq(''),\n",
       " Seq('QSLPIDCCSHNKRSGFCRAWFAWHDITHN'),\n",
       " Seq('W'),\n",
       " Seq('LFAFLT'),\n",
       " Seq('SF'),\n",
       " Seq('CSW'),\n",
       " Seq('HLLHTIKTYRVH'),\n",
       " Seq('LCNISLCFGC'),\n",
       " Seq('MYNF'),\n",
       " Seq('RCFW'),\n",
       " Seq('ASTILL'),\n",
       " Seq('YQCTRRFCCL'),\n",
       " Seq('KFTP'),\n",
       " Seq('HTLCAHGWLYYSIS'),\n",
       " Seq('HLP'),\n",
       " Seq('RFC'),\n",
       " Seq('SGNNF'),\n",
       " Seq('F'),\n",
       " Seq('VL'),\n",
       " Seq('ARHL'),\n",
       " Seq('KIRSWCLCIY'),\n",
       " Seq('W'),\n",
       " Seq('MGT'),\n",
       " Seq('Q'),\n",
       " Seq('LLQIFTRSFLWCRCCKFTY'),\n",
       " Seq('YVYTTNSTYWCFGHISIYSSWWYCSYRSNMPCLLFYEV'),\n",
       " Seq('KSFW'),\n",
       " Seq('IQSCSCL'),\n",
       " Seq('YFTIPYVIHCTLFNTSLLILTWCLFCYLLVLDILSY'),\n",
       " Seq(''),\n",
       " Seq('CFFFSTYSVDGYVHTFSTFLDNNCLYHLYFHKAFLLVL'),\n",
       " Seq(''),\n",
       " Seq('LPKETCSL'),\n",
       " Seq('WCFL'),\n",
       " Seq('YF'),\n",
       " Seq('RSCAVHLFVK'),\n",
       " Seq('RNVSKVA'),\n",
       " Seq(''),\n",
       " Seq('CAITSYAI'),\n",
       " Seq(''),\n",
       " Seq('ILSSL'),\n",
       " Seq(''),\n",
       " Seq('VQVF'),\n",
       " Seq('WSNGYN'),\n",
       " Seq('LQRSCLLSSRKGSQ'),\n",
       " Seq('LQ'),\n",
       " Seq('LRF'),\n",
       " Seq('CSLPTTTNLYHLSCFAEWF'),\n",
       " Seq('KNGIPIW'),\n",
       " Seq('S'),\n",
       " Seq('GLYGTSNLWYNYT'),\n",
       " Seq('RSLA'),\n",
       " Seq(''),\n",
       " Seq('RSLLSKTCDLHL'),\n",
       " Seq('RHA'),\n",
       " Seq('P'),\n",
       " Seq('L'),\n",
       " Seq('RFTHS'),\n",
       " Seq('V'),\n",
       " Seq('S'),\n",
       " Seq('FLGTGW'),\n",
       " Seq('CSTQGYWTFYAKLCT'),\n",
       " Seq('A'),\n",
       " Seq('G'),\n",
       " Seq('YSQS'),\n",
       " Seq('DT'),\n",
       " Seq('V'),\n",
       " Seq('VCSHSTRTDFFSVSLLQWFTIWCLPMCYEAQFHY'),\n",
       " Seq('GFIP'),\n",
       " Seq('WFMW'),\n",
       " Seq('CWF'),\n",
       " Seq('HRL'),\n",
       " Seq('LCLFLLHAPYGITNWSSCWHRLRR'),\n",
       " Seq('LLWTFC'),\n",
       " Seq('QANSTSSWYGHNYYS'),\n",
       " Seq('CFSLVVRCCYKWRQVVSQSIYHNS'),\n",
       " Seq(''),\n",
       " Seq('L'),\n",
       " Seq('PCGYEVQL'),\n",
       " Seq('TSNTRPC'),\n",
       " Seq('HTRTSFCSNWNCRFRYVCFIKRITAKWYEWTYHIG'),\n",
       " Seq('CFIRR'),\n",
       " Seq('IYTF'),\n",
       " Seq('CC'),\n",
       " Seq('TMLRCYFPKCSEKNNQGYTPLVVTHNFDFTFSFSPEYSMVFVLFFV'),\n",
       " Seq('KCLFTFCYGYYCYVCFCNDVCQT'),\n",
       " Seq('ACISLFVFVTFSCHCSLF'),\n",
       " Seq('YGLYAC'),\n",
       " Seq('LGDAYYDMVGYG'),\n",
       " Seq('Y'),\n",
       " Seq('FVWF'),\n",
       " Seq('AKRLCYVCISCSVTNPYDSKNCV'),\n",
       " Seq(''),\n",
       " Seq('WC'),\n",
       " Seq('ESVDTYECLDTRL'),\n",
       " Seq('SLLW'),\n",
       " Seq('CFRSSHFHVGSYNLCYF'),\n",
       " Seq('LLRCSYNCHVFGQRYCFYVC'),\n",
       " Seq('VLPYFLHNW'),\n",
       " Seq('YTSVYNASLLFLRLFLYLLLWPLLFTQPLL'),\n",
       " Seq('TDSWCL'),\n",
       " Seq('LLSFYTGV'),\n",
       " Seq('IYEFTGTTPTQE'),\n",
       " Seq('HRCLQTQH'),\n",
       " Seq('IVGCWWQTLYQSSHCTV'),\n",
       " Seq('NVRCKVHISSLTLSFATTQSRIII'),\n",
       " Seq('IVGSMCPVTQ'),\n",
       " Seq('HSLS'),\n",
       " Seq('RYY'),\n",
       " Seq('SL'),\n",
       " Seq('KNGFTTFCFAFHAGCCRHKQAL'),\n",
       " Seq('RNAGQQGNLTSYSLRV'),\n",
       " Seq('FPSIICSFCYCSRSL'),\n",
       " Seq('AGCC'),\n",
       " Seq('W'),\n",
       " Seq('F'),\n",
       " Seq('SCS'),\n",
       " Seq('KVEEVFECG'),\n",
       " Seq('I'),\n",
       " Seq('I'),\n",
       " Seq('P'),\n",
       " Seq('CSHAT'),\n",
       " Seq('VGKDG'),\n",
       " Seq('SSYDPNV'),\n",
       " Seq('TG'),\n",
       " Seq('I'),\n",
       " Seq('GQEGKSY'),\n",
       " Seq('CYADNAFHYA'),\n",
       " Seq('KVG'),\n",
       " Seq(''),\n",
       " Seq('CTQQHYQQCKRWLCSLEHNTSYNSSQTNGCHTRL'),\n",
       " Seq('HI'),\n",
       " Seq('KYV'),\n",
       " Seq('WYNIYLCISIVGNPTGCRCR'),\n",
       " Seq(''),\n",
       " Seq('NCST'),\n",
       " Seq(''),\n",
       " Seq('N'),\n",
       " Seq('YGQFT'),\n",
       " Seq('FSMASYCNSFKGQFCCQITE'),\n",
       " Seq(''),\n",
       " Seq('A'),\n",
       " Seq('SCCTTTDVLCCRYYTNCLH'),\n",
       " Seq(''),\n",
       " Seq('QCVSLLQHNKGR'),\n",
       " Seq('VCTCTVIRFTGFEMG'),\n",
       " Seq('IP'),\n",
       " Seq('E'),\n",
       " Seq('WNWYYLYRTGTTL'),\n",
       " Seq('VCYRHT'),\n",
       " Seq('RS'),\n",
       " Seq('SEVFILY'),\n",
       " Seq('RIKQPK'),\n",
       " Seq('RYGTW'),\n",
       " Seq('FSCHSTSTSW'),\n",
       " Seq('CNRSACQFNCIIFLCFCCRCC'),\n",
       " Seq('SLQRLSS'),\n",
       " Seq('WGTTNH'),\n",
       " Seq('LC'),\n",
       " Seq('DVVYTHWYWSGNNSYTGSQYGSRILWWCIVLSVLPLPHRSSKS'),\n",
       " Seq('RIL'),\n",
       " Seq('LKR'),\n",
       " Seq('VCTNTYNLC'),\n",
       " Seq(''),\n",
       " Seq('PCGFYT'),\n",
       " Seq('KHSLYRLRYVERLWL'),\n",
       " Seq('L'),\n",
       " Seq('STPRTHASVS'),\n",
       " Seq('CTIVFKRVCGVSAARLTPCGTGTSTDVVYRAFDIYNDKVAGFAKFLKTNCCRFQ...VNN'),\n",
       " Seq('TNNVCFSCFIATSL'),\n",
       " Seq('SVC'),\n",
       " Seq('SYNQNSITPCIH'),\n",
       " Seq('FFHTWCLLP'),\n",
       " Seq('QSFQILSFTFNSGLVLTFLFQCYLVPCYTCLWDQWY'),\n",
       " Seq('EV'),\n",
       " Seq(''),\n",
       " Seq('PCPTI'),\n",
       " Seq(''),\n",
       " Seq('WCLFCFH'),\n",
       " Seq('EV'),\n",
       " Seq('HNKRLDFWYYFRFEDPVPTYC'),\n",
       " Seq(''),\n",
       " Seq('RY'),\n",
       " Seq('CCY'),\n",
       " Seq('SL'),\n",
       " Seq('ISIL'),\n",
       " Seq(''),\n",
       " Seq('SIFGCLLPQKQQKLDGK'),\n",
       " Seq('VQSLF'),\n",
       " Seq('CE'),\n",
       " Seq('LHF'),\n",
       " Seq('ICLSAFSYGP'),\n",
       " Seq('RKTG'),\n",
       " Seq('FQKS'),\n",
       " Seq('GICV'),\n",
       " Seq('EY'),\n",
       " Seq('WLF'),\n",
       " Seq('NIF'),\n",
       " Seq('AHAY'),\n",
       " Seq('FSA'),\n",
       " Seq('SPSGFFGFRTIGRFANRY'),\n",
       " Seq('HH'),\n",
       " Seq('VSNFTCFT'),\n",
       " Seq('KLFDSW'),\n",
       " Seq('FFFRLDSWCCSLLCGLSST'),\n",
       " Seq('DFSIKI'),\n",
       " Seq(''),\n",
       " Seq('KWNHYRCCRLCT'),\n",
       " Seq('PSLRNKVYVEILHCRKRNLSNF'),\n",
       " Seq('L'),\n",
       " Seq('SPTNRIYC'),\n",
       " Seq('IS'),\n",
       " Seq('YYKLVPFW'),\n",
       " Seq('SF'),\n",
       " Seq('RHQICICLCLEQEENQQLCC'),\n",
       " Seq('LFCPI'),\n",
       " Seq('FRIIFHF'),\n",
       " Seq('VLWSVSY'),\n",
       " Seq('IK'),\n",
       " Seq('SLLY'),\n",
       " Seq('CLCRFICN'),\n",
       " Seq('R'),\n",
       " Seq(''),\n",
       " Seq('SQTNRSRANWKDC'),\n",
       " Seq('L'),\n",
       " Seq('L'),\n",
       " Seq('ITR'),\n",
       " Seq('FYRLRYSLEF'),\n",
       " Seq('QS'),\n",
       " Seq('F'),\n",
       " Seq('GWW'),\n",
       " Seq('L'),\n",
       " Seq('LPV'),\n",
       " Seq('IV'),\n",
       " Seq('EV'),\n",
       " Seq('SQTF'),\n",
       " Seq('ERYFN'),\n",
       " Seq('NLSGR'),\n",
       " Seq('HTL'),\n",
       " Seq('WC'),\n",
       " Seq('RF'),\n",
       " Seq('LLLSFTIIWFPTH'),\n",
       " Seq('WCWLPTIQSSSTFF'),\n",
       " Seq('TSTCTSNCLWT'),\n",
       " Seq('KVY'),\n",
       " Seq('FG'),\n",
       " Seq('KQMCQFQLQWFNRHRCSY'),\n",
       " Seq('V'),\n",
       " Seq('QKVSAFPTIWQRHC'),\n",
       " Seq('HY'),\n",
       " Seq('CCP'),\n",
       " Seq('STDT'),\n",
       " Seq('DS'),\n",
       " Seq('HYTMFFWWCQCYNTRNKYF'),\n",
       " Seq('PGCCSLSGC'),\n",
       " Seq('LHRSPCCYSCRSTYSYLACLFYRF'),\n",
       " Seq('CFSNTCRLFNRG'),\n",
       " Seq('TCQQLI'),\n",
       " Seq('V'),\n",
       " Seq('HTHWCRYMR'),\n",
       " Seq('LSDSD'),\n",
       " Seq('FSSAGT'),\n",
       " Seq('CS'),\n",
       " Seq('SIHHCLHYVTWCRKFSCLL'),\n",
       " Seq(''),\n",
       " Seq('LYCHTHKFYY'),\n",
       " Seq('CYHRNSTSVYDQDISRLYNVHLW'),\n",
       " Seq('FN'),\n",
       " Seq('MQQSFVAIWQFLYTIKPCFNWNSC'),\n",
       " Seq('TRQKHPRSFCTSQTNLQNTTN'),\n",
       " Seq('RFWWF'),\n",
       " Seq('FFTNITRSIKTKQEVIY'),\n",
       " Seq('RSTFQQSDTCRCWLHQTIW'),\n",
       " Seq('LPW'),\n",
       " Seq('YCC'),\n",
       " Seq('RPHLCTKV'),\n",
       " Seq('RPYCFATFAHR'),\n",
       " Seq('NDCSIHFCTVSGYNHFWLDLWCRCCITNTICYANGL'),\n",
       " Seq('V'),\n",
       " Seq('WYWSYTECSL'),\n",
       " Seq('EPKIDCQPI'),\n",
       " Seq(''),\n",
       " Seq('CYWQNSRLTFFHSKCTWKTSRCGQPKCTSFKHAC'),\n",
       " Seq('TT'),\n",
       " Seq('LQFWCNFKCFK'),\n",
       " Seq('YPFTS'),\n",
       " Seq('QS'),\n",
       " Seq('G'),\n",
       " Seq('SAN'),\n",
       " Seq(''),\n",
       " Seq('VDHRQTSKFADICDSTIN'),\n",
       " Seq('SCRNQSFC'),\n",
       " Seq('SCCY'),\n",
       " Seq('NVRVCTWTIKKS'),\n",
       " Seq('FLWKGLSSYVLPSVSTSWCSLLACDLCPCTRKELHNCSCHLS'),\n",
       " Seq('WKSTLSS'),\n",
       " Seq('RCLCFKWHTLVCNTKEFL'),\n",
       " Seq('TTNHYYRQHICVW'),\n",
       " Seq('L'),\n",
       " Seq('CCNRNCQQHSL'),\n",
       " Seq('SFAT'),\n",
       " Seq('IRLIQGGVR'),\n",
       " Seq('IF'),\n",
       " Seq('ESYITRC'),\n",
       " Seq('FR'),\n",
       " Seq('HLWH'),\n",
       " Seq('CFSCKHSKRN'),\n",
       " Seq('PPQ'),\n",
       " Seq('GCQEFK'),\n",
       " Seq('ISHRSPRTWKV'),\n",
       " Seq('AVYKMAMVHLARFYSWLDCHSNGDNYALLYDQLL'),\n",
       " Seq('LSQGLLFLWILLQI'),\n",
       " Seq(''),\n",
       " Seq('RRL'),\n",
       " Seq('ASAQRSQITLHINELMDLFMRIFTIGTVTLKQGEIKDATPSDFVRATATIPIQA...VPL'),\n",
       " Seq('AQADEYELMYSFVSEETGTLIVNSVLLFLAFVVFLLVTLAILTALRLCAYCCNI...LLV'),\n",
       " Seq('TN'),\n",
       " Seq('ILY'),\n",
       " Seq('FFCLEL'),\n",
       " Seq('F'),\n",
       " Seq('PWQIPTVLLPLKSLKSSLNNGT'),\n",
       " Seq(''),\n",
       " Seq(''),\n",
       " Seq('VSYSLHGFVFYNLPMPTGIGFCI'),\n",
       " Seq('LS'),\n",
       " Seq('FSSGCYGQ'),\n",
       " Seq('L'),\n",
       " Seq('LVLCLLLFTE'),\n",
       " Seq('IGSPVELLSQWLVL'),\n",
       " Seq('A'),\n",
       " Seq('CGSATSLLLSDCLRVRVPCGHSIQKLTFFSTCHSMALF'),\n",
       " Seq('PDRF'),\n",
       " Seq('KVNS'),\n",
       " Seq('SEL'),\n",
       " Seq('SFVDIFVLLDTI'),\n",
       " Seq('DAVTSRTCLKKSLLLHHERFLITNWELRSV'),\n",
       " Seq('QVTQVLLHTVATGLATIN'),\n",
       " Seq('TQTIPVAVTILLCLYSK'),\n",
       " Seq('QQMFHLVDFQVTIAEILLIIMRTFKVSIWNLDYIINLIIKNLSKSLTENKYSQL...EID'),\n",
       " Seq('TNMKIILFLALITLATCELYHYQECVRGTTVLLKEPCSSGTYEGNSPFHPLADN...KTE'),\n",
       " Seq('LNFH'),\n",
       " Seq('LTSICAF'),\n",
       " Seq('PFCYSLF'),\n",
       " Seq('LCLLSFGSHLNCKIIMKLVTPKRT'),\n",
       " Seq('NFLFS'),\n",
       " Seq('ESSQL'),\n",
       " Seq('LHFTKNVVYSHVLNINHM'),\n",
       " Seq('LMTRVLFTSILNGILE'),\n",
       " Seq('ELENQHL'),\n",
       " Seq('LNCAWMRLVLNHPFSTSISVIIQFPVYLLQLIARNLNWVVL'),\n",
       " Seq('CVVRSMKTF'),\n",
       " Seq('SIMTFVLF'),\n",
       " Seq('ISSKRTN'),\n",
       " Seq('NV'),\n",
       " Seq(''),\n",
       " Seq('WTPKSAKCTPHYVWWTLRFNWQ'),\n",
       " Seq('PEWRTQWGAIKTTSAPRFTQ'),\n",
       " Seq('YCVLVHRSHSTWQGRP'),\n",
       " Seq('IPSRTRRSN'),\n",
       " Seq('HQ'),\n",
       " Seq('QSR'),\n",
       " Seq('PNWLLPKSYQTNSWW'),\n",
       " Seq('R'),\n",
       " Seq('NERSQSKMVFLLPRNWARSWTSLWC'),\n",
       " Seq('QRRHHMGCN'),\n",
       " Seq('GSLEYTKRSHWHPQSC'),\n",
       " Seq('QCCNRATTSSRNNIAKRLLRRREQRRQSSLFSFLIT'),\n",
       " Seq('SQQFKKFNSRQQ'),\n",
       " Seq('GNFSC'),\n",
       " Seq('NGWQWR'),\n",
       " Seq('CCSCFAAA'),\n",
       " Seq('QIEPA'),\n",
       " Seq('EQNVW'),\n",
       " Seq('RPTTTRPNCH'),\n",
       " Seq('EICC'),\n",
       " Seq('GF'),\n",
       " Seq('EASAKTYCH'),\n",
       " Seq('SIQCNTSFRQTWSRTNPRKFWGPGTNQTRN'),\n",
       " Seq('LQTLAANCTICPQRFSVLRNVAHWHGSHTFGNVVDLHRCHQIG'),\n",
       " Seq('QRSKFQRSSHFAE'),\n",
       " Seq('AY'),\n",
       " Seq('RIQNIPTNRA'),\n",
       " Seq('KGQKEEG'),\n",
       " Seq(''),\n",
       " Seq('NSSLTAETEETANCDSSSCCRFG'),\n",
       " Seq('FLQTIATIHEQC'),\n",
       " Seq('LNSGLNSCRPHKADGLYKRFRFSVYDI'),\n",
       " Seq('STLVQNEFS'),\n",
       " Seq('LHSTSRCS'),\n",
       " Seq('L'),\n",
       " Seq('SHIAIFNQCVTLGRT'),\n",
       " Seq('KSHHIFTEATRSTIECTVNNARESCLYGRALMCKINFSSAIPM'),\n",
       " Seq('F'),\n",
       " Seq(''),\n",
       " Seq('LLRRMTKKKKKKKKKK')]"
      ]
     },
     "execution_count": 83,
     "metadata": {},
     "output_type": "execute_result"
    }
   ],
   "source": [
    "proteins[::]"
   ]
  },
  {
   "cell_type": "code",
   "execution_count": 18,
   "id": "b393e578",
   "metadata": {},
   "outputs": [
    {
     "name": "stdout",
     "output_type": "stream",
     "text": [
      "We have 775 amino acids in the covid-19 genome\n"
     ]
    }
   ],
   "source": [
    "print(f'We have {len(proteins)} amino acids in the covid-19 genome')"
   ]
  },
  {
   "cell_type": "code",
   "execution_count": 19,
   "id": "a28a8c0f",
   "metadata": {},
   "outputs": [],
   "source": [
    "top_5_proteins = sorted(proteins, key = len)"
   ]
  },
  {
   "cell_type": "code",
   "execution_count": 20,
   "id": "e724ed59",
   "metadata": {},
   "outputs": [
    {
     "data": {
      "text/plain": [
       "Seq('CTIVFKRVCGVSAARLTPCGTGTSTDVVYRAFDIYNDKVAGFAKFLKTNCCRFQ...VNN')"
      ]
     },
     "execution_count": 20,
     "metadata": {},
     "output_type": "execute_result"
    }
   ],
   "source": [
    "top_5_proteins[-1]"
   ]
  },
  {
   "cell_type": "code",
   "execution_count": 21,
   "id": "1be007b0",
   "metadata": {},
   "outputs": [
    {
     "data": {
      "text/plain": [
       "2701"
      ]
     },
     "execution_count": 21,
     "metadata": {},
     "output_type": "execute_result"
    }
   ],
   "source": [
    "len(top_5_proteins[-1])"
   ]
  },
  {
   "cell_type": "code",
   "execution_count": 44,
   "id": "10f53452",
   "metadata": {},
   "outputs": [],
   "source": [
    "with open(\"protein_seq.fasta\", \"w\") as file:\n",
    "    file.write(f\">covid protein\\n{top_5_proteins[-1]}\")"
   ]
  },
  {
   "cell_type": "code",
   "execution_count": 78,
   "id": "dc688bf2",
   "metadata": {},
   "outputs": [],
   "source": [
    "from Bio import PDB, SeqIO\n",
    "protein_seq = SeqIO.read(\"protein_seq.fasta\", \"fasta\")"
   ]
  },
  {
   "cell_type": "code",
   "execution_count": 79,
   "id": "7dcf79cc",
   "metadata": {},
   "outputs": [
    {
     "data": {
      "text/plain": [
       "Seq('CTIVFKRVCGVSAARLTPCGTGTSTDVVYRAFDIYNDKVAGFAKFLKTNCCRFQ...VNN')"
      ]
     },
     "execution_count": 79,
     "metadata": {},
     "output_type": "execute_result"
    }
   ],
   "source": [
    "protein_seq.seq"
   ]
  },
  {
   "cell_type": "code",
   "execution_count": 81,
   "id": "00fef617",
   "metadata": {},
   "outputs": [
    {
     "data": {
      "text/plain": [
       "2701"
      ]
     },
     "execution_count": 81,
     "metadata": {},
     "output_type": "execute_result"
    }
   ],
   "source": [
    "len(protein_seq.seq)"
   ]
  },
  {
   "cell_type": "code",
   "execution_count": 75,
   "id": "d268e8f7",
   "metadata": {},
   "outputs": [],
   "source": [
    "from Bio.Blast import NCBIWWW\n",
    "result_handle = NCBIWWW.qblast(\"blastp\", \"pdb\", protein_seq.seq) # pdb - protein data bank"
   ]
  },
  {
   "cell_type": "code",
   "execution_count": 76,
   "id": "f8629186",
   "metadata": {},
   "outputs": [],
   "source": [
    "from Bio import SearchIO\n",
    "\n",
    "blast_records = SearchIO.read(result_handle, 'blast-xml')\n"
   ]
  },
  {
   "cell_type": "code",
   "execution_count": 77,
   "id": "ad3af925",
   "metadata": {},
   "outputs": [
    {
     "name": "stdout",
     "output_type": "stream",
     "text": [
      "Program: blastp (2.13.0+)\n",
      "  Query: unnamed (2701)\n",
      "         protein product\n",
      " Target: pdb\n",
      "   Hits: ----  -----  ----------------------------------------------------------\n",
      "            #  # HSP  ID + description\n",
      "         ----  -----  ----------------------------------------------------------\n",
      "            0      1  pdb|6YYT|A  Chain A, nsp12 [Severe acute respiratory sy...\n"
     ]
    }
   ],
   "source": [
    "print(blast_records[1:2])"
   ]
  },
  {
   "cell_type": "code",
   "execution_count": null,
   "id": "fd46a451",
   "metadata": {},
   "outputs": [],
   "source": []
  },
  {
   "cell_type": "code",
   "execution_count": null,
   "id": "7d71e460",
   "metadata": {},
   "outputs": [],
   "source": []
  },
  {
   "cell_type": "code",
   "execution_count": 59,
   "id": "9d35ec5f",
   "metadata": {},
   "outputs": [],
   "source": [
    "seq_id = \"pdb|6YYT|A\""
   ]
  },
  {
   "cell_type": "code",
   "execution_count": 60,
   "id": "9497c192",
   "metadata": {},
   "outputs": [],
   "source": [
    "id = seq_id.split(\"|\")[1] "
   ]
  },
  {
   "cell_type": "code",
   "execution_count": 61,
   "id": "0ee17fd5",
   "metadata": {},
   "outputs": [
    {
     "name": "stdout",
     "output_type": "stream",
     "text": [
      "6YYT\n"
     ]
    }
   ],
   "source": [
    "print(id)"
   ]
  },
  {
   "cell_type": "code",
   "execution_count": 62,
   "id": "e806ddb6",
   "metadata": {},
   "outputs": [
    {
     "name": "stdout",
     "output_type": "stream",
     "text": [
      "Requirement already satisfied: wget in c:\\users\\bulen\\anaconda3\\lib\\site-packages (3.2)\n",
      "Note: you may need to restart the kernel to use updated packages.\n"
     ]
    }
   ],
   "source": [
    "pip install wget"
   ]
  },
  {
   "cell_type": "code",
   "execution_count": 63,
   "id": "8d0e9e57",
   "metadata": {},
   "outputs": [
    {
     "name": "stderr",
     "output_type": "stream",
     "text": [
      "'wget' is not recognized as an internal or external command,\n",
      "operable program or batch file.\n"
     ]
    }
   ],
   "source": [
    "!wget https://files.rcsb.org/download/6YYT.pdb"
   ]
  },
  {
   "cell_type": "code",
   "execution_count": 64,
   "id": "859e43c9",
   "metadata": {},
   "outputs": [],
   "source": [
    "import wget\n",
    "url = 'https://files.rcsb.org/download/6YYT.pdb'\n",
    "filename = wget.download(url)"
   ]
  },
  {
   "cell_type": "code",
   "execution_count": 40,
   "id": "e6852047",
   "metadata": {},
   "outputs": [
    {
     "data": {
      "text/plain": [
       "'6yyt (1).pdb'"
      ]
     },
     "execution_count": 40,
     "metadata": {},
     "output_type": "execute_result"
    }
   ],
   "source": [
    "filename\n"
   ]
  },
  {
   "cell_type": "code",
   "execution_count": 41,
   "id": "3ea1523d",
   "metadata": {},
   "outputs": [],
   "source": [
    "from Bio.PDB import PDBParser # PDBParser - parser for pdb files"
   ]
  },
  {
   "cell_type": "code",
   "execution_count": 68,
   "id": "b393a6b5",
   "metadata": {},
   "outputs": [
    {
     "name": "stderr",
     "output_type": "stream",
     "text": [
      "C:\\Users\\bulen\\anaconda3\\lib\\site-packages\\Bio\\PDB\\StructureBuilder.py:89: PDBConstructionWarning: WARNING: Chain A is discontinuous at line 12059.\n",
      "  warnings.warn(\n"
     ]
    },
    {
     "data": {
      "text/plain": [
       "<Structure id=6YYT>"
      ]
     },
     "execution_count": 68,
     "metadata": {},
     "output_type": "execute_result"
    }
   ],
   "source": [
    "parser = PDBParser()\n",
    "structure = parser.get_structure('6YYT', '6YYT.pdb') # After parsing, we can fetch the protein structure using get_structure .\n",
    "structure"
   ]
  },
  {
   "cell_type": "code",
   "execution_count": 72,
   "id": "4f931fa9",
   "metadata": {},
   "outputs": [
    {
     "name": "stdout",
     "output_type": "stream",
     "text": [
      "chain ID: A \n",
      "chain ID: B \n",
      "chain ID: C \n",
      "chain ID: D \n",
      "chain ID: P \n",
      "chain ID: Q \n",
      "chain ID: T \n",
      "chain ID: U \n"
     ]
    }
   ],
   "source": [
    "for chain in structure[0]:\n",
    "    print(f'chain ID: {chain.id} ')"
   ]
  },
  {
   "cell_type": "markdown",
   "id": "6915466b",
   "metadata": {},
   "source": [
    "# 1-) What is the amino acid length of the protein? 6YYT sequence and length"
   ]
  },
  {
   "cell_type": "code",
   "execution_count": 84,
   "id": "dde5fd66",
   "metadata": {},
   "outputs": [
    {
     "data": {
      "text/plain": [
       "'>6YYT_1|Chain A|nsp12|Severe acute respiratory syndrome coronavirus 2 (2697049)\\nSNASADAQSFLNRVCGVSAARLTPCGTGTSTDVVYRAFDIYNDKVAGFAKFLKTNCCRFQEKDEDDNLIDSYFVVKRHTFSNYQHEETIYNLLKDCPAVAKHDFFKFRIDGDMVPHISRQRLTKYTMADLVYALRHFDEGNCDTLKEILVTYNCCDDDYFNKKDWYDFVENPDILRVYANLGERVRQALLKTVQFCDAMRNAGIVGVLTLDNQDLNGNWYDFGDFIQTTPGSGVPVVDSYYSLLMPILTLTRALTAESHVDTDLTKPYIKWDLLKYDFTEERLKLFDRYFKYWDQTYHPNCVNCLDDRCILHCANFNVLFSTVFPPTSFGPLVRKIFVDGVPFVVSTGYHFRELGVVHNQDVNLHSSRLSFKELLVYAADPAMHAASGNLLLDKRTTCFSVAALTNNVAFQTVKPGNFNKDFYDFAVSKGFFKEGSSVELKHFFFAQDGNAAISDYDYYRYNLPTMCDIRQLLFVVEVVDKYFDCYDGGCINANQVIVNNLDKSAGFPFNKWGKARLYYDSMSYEDQDALFAYTKRNVIPTITQMNLKYAISAKNRARTVAGVSICSTMTNRQFHQKLLKSIAATRGATVVIGTSKFYGGWHNMLKTVYSDVENPHLMGWDYPKCDRAMPNMLRIMASLVLARKHTTCCSLSHRFYRLANECAQVLSEMVMCGGSLYVKPGGTSSGDATTAYANSVFNICQAVTANVNALLSTDGNKIADKYVRNLQHRLYECLYRNRDVDTDFVNEFYAYLRKHFSMMILSDDAVVCFNSTYASQGLVASIKNFKSVLYYQNNVFMSEAKCWTETDLTKGPHEFCSQHTMLVKQGDDYVYLPYPDPSRILGAGCFVDDIVKTDGTLMIERFVSLAIDAYPLTKHPNQEYADVFHLYLQYIRKLHDELTGHMLDMYSVMLTNDNTSRYWEPEFYEAMYTPHTVLQ\\n'"
      ]
     },
     "execution_count": 84,
     "metadata": {},
     "output_type": "execute_result"
    }
   ],
   "source": [
    "\"\"\">6YYT_1|Chain A|nsp12|Severe acute respiratory syndrome coronavirus 2 (2697049)\n",
    "SNASADAQSFLNRVCGVSAARLTPCGTGTSTDVVYRAFDIYNDKVAGFAKFLKTNCCRFQEKDEDDNLIDSYFVVKRHTFSNYQHEETIYNLLKDCPAVAKHDFFKFRIDGDMVPHISRQRLTKYTMADLVYALRHFDEGNCDTLKEILVTYNCCDDDYFNKKDWYDFVENPDILRVYANLGERVRQALLKTVQFCDAMRNAGIVGVLTLDNQDLNGNWYDFGDFIQTTPGSGVPVVDSYYSLLMPILTLTRALTAESHVDTDLTKPYIKWDLLKYDFTEERLKLFDRYFKYWDQTYHPNCVNCLDDRCILHCANFNVLFSTVFPPTSFGPLVRKIFVDGVPFVVSTGYHFRELGVVHNQDVNLHSSRLSFKELLVYAADPAMHAASGNLLLDKRTTCFSVAALTNNVAFQTVKPGNFNKDFYDFAVSKGFFKEGSSVELKHFFFAQDGNAAISDYDYYRYNLPTMCDIRQLLFVVEVVDKYFDCYDGGCINANQVIVNNLDKSAGFPFNKWGKARLYYDSMSYEDQDALFAYTKRNVIPTITQMNLKYAISAKNRARTVAGVSICSTMTNRQFHQKLLKSIAATRGATVVIGTSKFYGGWHNMLKTVYSDVENPHLMGWDYPKCDRAMPNMLRIMASLVLARKHTTCCSLSHRFYRLANECAQVLSEMVMCGGSLYVKPGGTSSGDATTAYANSVFNICQAVTANVNALLSTDGNKIADKYVRNLQHRLYECLYRNRDVDTDFVNEFYAYLRKHFSMMILSDDAVVCFNSTYASQGLVASIKNFKSVLYYQNNVFMSEAKCWTETDLTKGPHEFCSQHTMLVKQGDDYVYLPYPDPSRILGAGCFVDDIVKTDGTLMIERFVSLAIDAYPLTKHPNQEYADVFHLYLQYIRKLHDELTGHMLDMYSVMLTNDNTSRYWEPEFYEAMYTPHTVLQ\n",
    "\"\"\""
   ]
  },
  {
   "cell_type": "code",
   "execution_count": 85,
   "id": "ffcdb4d9",
   "metadata": {},
   "outputs": [],
   "source": [
    "pdb_squence_Nsp12 =\"SNASADAQSFLNRVCGVSAARLTPCGTGTSTDVVYRAFDIYNDKVAGFAKFLKTNCCRFQEKDEDDNLIDSYFVVKRHTFSNYQHEETIYNLLKDCPAVAKHDFFKFRIDGDMVPHISRQRLTKYTMADLVYALRHFDEGNCDTLKEILVTYNCCDDDYFNKKDWYDFVENPDILRVYANLGERVRQALLKTVQFCDAMRNAGIVGVLTLDNQDLNGNWYDFGDFIQTTPGSGVPVVDSYYSLLMPILTLTRALTAESHVDTDLTKPYIKWDLLKYDFTEERLKLFDRYFKYWDQTYHPNCVNCLDDRCILHCANFNVLFSTVFPPTSFGPLVRKIFVDGVPFVVSTGYHFRELGVVHNQDVNLHSSRLSFKELLVYAADPAMHAASGNLLLDKRTTCFSVAALTNNVAFQTVKPGNFNKDFYDFAVSKGFFKEGSSVELKHFFFAQDGNAAISDYDYYRYNLPTMCDIRQLLFVVEVVDKYFDCYDGGCINANQVIVNNLDKSAGFPFNKWGKARLYYDSMSYEDQDALFAYTKRNVIPTITQMNLKYAISAKNRARTVAGVSICSTMTNRQFHQKLLKSIAATRGATVVIGTSKFYGGWHNMLKTVYSDVENPHLMGWDYPKCDRAMPNMLRIMASLVLARKHTTCCSLSHRFYRLANECAQVLSEMVMCGGSLYVKPGGTSSGDATTAYANSVFNICQAVTANVNALLSTDGNKIADKYVRNLQHRLYECLYRNRDVDTDFVNEFYAYLRKHFSMMILSDDAVVCFNSTYASQGLVASIKNFKSVLYYQNNVFMSEAKCWTETDLTKGPHEFCSQHTMLVKQGDDYVYLPYPDPSRILGAGCFVDDIVKTDGTLMIERFVSLAIDAYPLTKHPNQEYADVFHLYLQYIRKLHDELTGHMLDMYSVMLTNDNTSRYWEPEFYEAMYTPHTVLQ\""
   ]
  },
  {
   "cell_type": "code",
   "execution_count": 86,
   "id": "a7b4bca0",
   "metadata": {},
   "outputs": [
    {
     "data": {
      "text/plain": [
       "935"
      ]
     },
     "execution_count": 86,
     "metadata": {},
     "output_type": "execute_result"
    }
   ],
   "source": [
    "len(pdb_squence_Nsp12)"
   ]
  },
  {
   "cell_type": "markdown",
   "id": "59a4a4c8",
   "metadata": {},
   "source": [
    "# 3-)Find the UniProt ID of the protein. What is the function of this protein? If there are multiple functions, include them as well."
   ]
  },
  {
   "cell_type": "code",
   "execution_count": null,
   "id": "b7a91d14",
   "metadata": {},
   "outputs": [],
   "source": [
    "# UniProtKB accession:  P0DTD1"
   ]
  },
  {
   "cell_type": "code",
   "execution_count": null,
   "id": "09ef717b",
   "metadata": {},
   "outputs": [],
   "source": [
    "\"\"\" NSP12, also known as the RNA-dependent RNA polymerase (RdRp) has functions,\n",
    "\n",
    "1-) As the RNA-dependent RNA polymerase, NSP12 helps synthesize viral RNA. \n",
    " \n",
    "2-)it suppresses the activity of a coding gene, IRF3 (interferon regulatory factor 3), key to the production of interferon.\n",
    "Interferon is a key component of the innate immune response, the body’s first line of defense against invading pathogens.\n",
    "In this way, host cell interferon production is disrupted and neighboring cells cannot be stimulated. \n",
    "Thus, the virus continues to spread unnoticed.\n",
    "\"\"\""
   ]
  },
  {
   "cell_type": "code",
   "execution_count": null,
   "id": "d629aff9",
   "metadata": {},
   "outputs": [],
   "source": []
  },
  {
   "cell_type": "code",
   "execution_count": null,
   "id": "12505fac",
   "metadata": {},
   "outputs": [],
   "source": []
  },
  {
   "cell_type": "code",
   "execution_count": null,
   "id": "55320ff6",
   "metadata": {},
   "outputs": [],
   "source": []
  },
  {
   "cell_type": "code",
   "execution_count": null,
   "id": "30e672f8",
   "metadata": {},
   "outputs": [],
   "source": []
  }
 ],
 "metadata": {
  "kernelspec": {
   "display_name": "Python 3 (ipykernel)",
   "language": "python",
   "name": "python3"
  },
  "language_info": {
   "codemirror_mode": {
    "name": "ipython",
    "version": 3
   },
   "file_extension": ".py",
   "mimetype": "text/x-python",
   "name": "python",
   "nbconvert_exporter": "python",
   "pygments_lexer": "ipython3",
   "version": "3.9.13"
  }
 },
 "nbformat": 4,
 "nbformat_minor": 5
}
